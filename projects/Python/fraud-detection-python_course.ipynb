{
 "cells": [
  {
   "cell_type": "markdown",
   "metadata": {},
   "source": [
    "## Zhumakhan Arman\n",
    "\n",
    "### SDSC2001 Python for Data Science"
   ]
  },
  {
   "cell_type": "markdown",
   "metadata": {},
   "source": [
    "### Short summary\n",
    "- The goal of the project is a fraud detection in credit card transactions\n",
    "- The dataset of 284,807 transactions is used. The dataset is highly unbalanced with only 0.172% fraud data\n",
    "- 1-part is Data Exploration, including checking distribution of values, and data visualization\n",
    "- 3-part is Data Reduction using PCA, T-SNE, Spectral Embedding algorithms and data visualization on 2d plot\n",
    "- 4-part is about creating Classification model using Logistic Regression, Random Forest, Ada Boost algorithms and checking the performance (confusion matrix, ROC curve)"
   ]
  },
  {
   "cell_type": "markdown",
   "metadata": {},
   "source": [
    "#### Content\n",
    "The dataset contains transactions made by credit cards in September 2013 by european cardholders. Transactions occurred in two days, where we have 492 frauds out of 284,807 transactions. The dataset is highly unbalanced, as the positive class (frauds) account for 0.172% of all transactions.\n",
    "\n",
    "It contains numerical input variables V1-V28 which are the result of a Principal Component Analysis (PCA) transformation, as original features are not provided due to confidentiality issues. Features that have not been transformed with PCA are 'Time' and 'Amount'. 'Time' contains the seconds elapsed between each transaction and the first transaction in the dataset. 'Amount' denotes the transaction Amount. 'Class' is the response variable (labelled outcome) and it takes value 1 in case of fraud and 0 otherwise."
   ]
  },
  {
   "cell_type": "code",
   "execution_count": 1,
   "metadata": {},
   "outputs": [],
   "source": [
    "import pandas as pd\n",
    "import numpy as np\n",
    "import seaborn as sns\n",
    "import matplotlib.pyplot as plt\n",
    "%matplotlib inline"
   ]
  },
  {
   "cell_type": "code",
   "execution_count": 2,
   "metadata": {},
   "outputs": [],
   "source": [
    "df_train = pd.read_csv('creditcard_train.csv')"
   ]
  },
  {
   "cell_type": "markdown",
   "metadata": {},
   "source": [
    "df_test = pd.read_csv('creditcard_test.csv')"
   ]
  },
  {
   "cell_type": "markdown",
   "metadata": {},
   "source": [
    "### Data Exploration"
   ]
  },
  {
   "cell_type": "markdown",
   "metadata": {},
   "source": [
    "## `Class` is a target feature\n",
    "### 0 - Non-fraud transaction\n",
    "### 1 - Fraud transaction"
   ]
  },
  {
   "cell_type": "code",
   "execution_count": 4,
   "metadata": {},
   "outputs": [
    {
     "data": {
      "text/html": [
       "<div>\n",
       "<style scoped>\n",
       "    .dataframe tbody tr th:only-of-type {\n",
       "        vertical-align: middle;\n",
       "    }\n",
       "\n",
       "    .dataframe tbody tr th {\n",
       "        vertical-align: top;\n",
       "    }\n",
       "\n",
       "    .dataframe thead th {\n",
       "        text-align: right;\n",
       "    }\n",
       "</style>\n",
       "<table border=\"1\" class=\"dataframe\">\n",
       "  <thead>\n",
       "    <tr style=\"text-align: right;\">\n",
       "      <th></th>\n",
       "      <th>Time</th>\n",
       "      <th>V1</th>\n",
       "      <th>V2</th>\n",
       "      <th>V3</th>\n",
       "      <th>V4</th>\n",
       "      <th>V5</th>\n",
       "      <th>V6</th>\n",
       "      <th>V7</th>\n",
       "      <th>V8</th>\n",
       "      <th>V9</th>\n",
       "      <th>...</th>\n",
       "      <th>V21</th>\n",
       "      <th>V22</th>\n",
       "      <th>V23</th>\n",
       "      <th>V24</th>\n",
       "      <th>V25</th>\n",
       "      <th>V26</th>\n",
       "      <th>V27</th>\n",
       "      <th>V28</th>\n",
       "      <th>Amount</th>\n",
       "      <th>Class</th>\n",
       "    </tr>\n",
       "  </thead>\n",
       "  <tbody>\n",
       "    <tr>\n",
       "      <th>0</th>\n",
       "      <td>0.0</td>\n",
       "      <td>-1.359807</td>\n",
       "      <td>-0.072781</td>\n",
       "      <td>2.536347</td>\n",
       "      <td>1.378155</td>\n",
       "      <td>-0.338321</td>\n",
       "      <td>0.462388</td>\n",
       "      <td>0.239599</td>\n",
       "      <td>0.098698</td>\n",
       "      <td>0.363787</td>\n",
       "      <td>...</td>\n",
       "      <td>-0.018307</td>\n",
       "      <td>0.277838</td>\n",
       "      <td>-0.110474</td>\n",
       "      <td>0.066928</td>\n",
       "      <td>0.128539</td>\n",
       "      <td>-0.189115</td>\n",
       "      <td>0.133558</td>\n",
       "      <td>-0.021053</td>\n",
       "      <td>149.62</td>\n",
       "      <td>0</td>\n",
       "    </tr>\n",
       "    <tr>\n",
       "      <th>1</th>\n",
       "      <td>0.0</td>\n",
       "      <td>1.191857</td>\n",
       "      <td>0.266151</td>\n",
       "      <td>0.166480</td>\n",
       "      <td>0.448154</td>\n",
       "      <td>0.060018</td>\n",
       "      <td>-0.082361</td>\n",
       "      <td>-0.078803</td>\n",
       "      <td>0.085102</td>\n",
       "      <td>-0.255425</td>\n",
       "      <td>...</td>\n",
       "      <td>-0.225775</td>\n",
       "      <td>-0.638672</td>\n",
       "      <td>0.101288</td>\n",
       "      <td>-0.339846</td>\n",
       "      <td>0.167170</td>\n",
       "      <td>0.125895</td>\n",
       "      <td>-0.008983</td>\n",
       "      <td>0.014724</td>\n",
       "      <td>2.69</td>\n",
       "      <td>0</td>\n",
       "    </tr>\n",
       "    <tr>\n",
       "      <th>2</th>\n",
       "      <td>1.0</td>\n",
       "      <td>-1.358354</td>\n",
       "      <td>-1.340163</td>\n",
       "      <td>1.773209</td>\n",
       "      <td>0.379780</td>\n",
       "      <td>-0.503198</td>\n",
       "      <td>1.800499</td>\n",
       "      <td>0.791461</td>\n",
       "      <td>0.247676</td>\n",
       "      <td>-1.514654</td>\n",
       "      <td>...</td>\n",
       "      <td>0.247998</td>\n",
       "      <td>0.771679</td>\n",
       "      <td>0.909412</td>\n",
       "      <td>-0.689281</td>\n",
       "      <td>-0.327642</td>\n",
       "      <td>-0.139097</td>\n",
       "      <td>-0.055353</td>\n",
       "      <td>-0.059752</td>\n",
       "      <td>378.66</td>\n",
       "      <td>0</td>\n",
       "    </tr>\n",
       "    <tr>\n",
       "      <th>3</th>\n",
       "      <td>1.0</td>\n",
       "      <td>-0.966272</td>\n",
       "      <td>-0.185226</td>\n",
       "      <td>1.792993</td>\n",
       "      <td>-0.863291</td>\n",
       "      <td>-0.010309</td>\n",
       "      <td>1.247203</td>\n",
       "      <td>0.237609</td>\n",
       "      <td>0.377436</td>\n",
       "      <td>-1.387024</td>\n",
       "      <td>...</td>\n",
       "      <td>-0.108300</td>\n",
       "      <td>0.005274</td>\n",
       "      <td>-0.190321</td>\n",
       "      <td>-1.175575</td>\n",
       "      <td>0.647376</td>\n",
       "      <td>-0.221929</td>\n",
       "      <td>0.062723</td>\n",
       "      <td>0.061458</td>\n",
       "      <td>123.50</td>\n",
       "      <td>0</td>\n",
       "    </tr>\n",
       "    <tr>\n",
       "      <th>4</th>\n",
       "      <td>2.0</td>\n",
       "      <td>-1.158233</td>\n",
       "      <td>0.877737</td>\n",
       "      <td>1.548718</td>\n",
       "      <td>0.403034</td>\n",
       "      <td>-0.407193</td>\n",
       "      <td>0.095921</td>\n",
       "      <td>0.592941</td>\n",
       "      <td>-0.270533</td>\n",
       "      <td>0.817739</td>\n",
       "      <td>...</td>\n",
       "      <td>-0.009431</td>\n",
       "      <td>0.798278</td>\n",
       "      <td>-0.137458</td>\n",
       "      <td>0.141267</td>\n",
       "      <td>-0.206010</td>\n",
       "      <td>0.502292</td>\n",
       "      <td>0.219422</td>\n",
       "      <td>0.215153</td>\n",
       "      <td>69.99</td>\n",
       "      <td>0</td>\n",
       "    </tr>\n",
       "  </tbody>\n",
       "</table>\n",
       "<p>5 rows × 31 columns</p>\n",
       "</div>"
      ],
      "text/plain": [
       "   Time        V1        V2        V3        V4        V5        V6        V7  \\\n",
       "0   0.0 -1.359807 -0.072781  2.536347  1.378155 -0.338321  0.462388  0.239599   \n",
       "1   0.0  1.191857  0.266151  0.166480  0.448154  0.060018 -0.082361 -0.078803   \n",
       "2   1.0 -1.358354 -1.340163  1.773209  0.379780 -0.503198  1.800499  0.791461   \n",
       "3   1.0 -0.966272 -0.185226  1.792993 -0.863291 -0.010309  1.247203  0.237609   \n",
       "4   2.0 -1.158233  0.877737  1.548718  0.403034 -0.407193  0.095921  0.592941   \n",
       "\n",
       "         V8        V9  ...       V21       V22       V23       V24       V25  \\\n",
       "0  0.098698  0.363787  ... -0.018307  0.277838 -0.110474  0.066928  0.128539   \n",
       "1  0.085102 -0.255425  ... -0.225775 -0.638672  0.101288 -0.339846  0.167170   \n",
       "2  0.247676 -1.514654  ...  0.247998  0.771679  0.909412 -0.689281 -0.327642   \n",
       "3  0.377436 -1.387024  ... -0.108300  0.005274 -0.190321 -1.175575  0.647376   \n",
       "4 -0.270533  0.817739  ... -0.009431  0.798278 -0.137458  0.141267 -0.206010   \n",
       "\n",
       "        V26       V27       V28  Amount  Class  \n",
       "0 -0.189115  0.133558 -0.021053  149.62      0  \n",
       "1  0.125895 -0.008983  0.014724    2.69      0  \n",
       "2 -0.139097 -0.055353 -0.059752  378.66      0  \n",
       "3 -0.221929  0.062723  0.061458  123.50      0  \n",
       "4  0.502292  0.219422  0.215153   69.99      0  \n",
       "\n",
       "[5 rows x 31 columns]"
      ]
     },
     "execution_count": 4,
     "metadata": {},
     "output_type": "execute_result"
    }
   ],
   "source": [
    "df_train.head()"
   ]
  },
  {
   "cell_type": "markdown",
   "metadata": {},
   "source": [
    "### Training data has 284,657 rows"
   ]
  },
  {
   "cell_type": "code",
   "execution_count": 5,
   "metadata": {},
   "outputs": [
    {
     "data": {
      "text/plain": [
       "(284657, 31)"
      ]
     },
     "execution_count": 5,
     "metadata": {},
     "output_type": "execute_result"
    }
   ],
   "source": [
    "df_train.shape"
   ]
  },
  {
   "cell_type": "markdown",
   "metadata": {},
   "source": [
    "### Test data has 150 rows"
   ]
  },
  {
   "cell_type": "code",
   "execution_count": 6,
   "metadata": {},
   "outputs": [
    {
     "data": {
      "text/plain": [
       "(150, 31)"
      ]
     },
     "execution_count": 6,
     "metadata": {},
     "output_type": "execute_result"
    }
   ],
   "source": [
    "df_test.shape"
   ]
  },
  {
   "cell_type": "markdown",
   "metadata": {},
   "source": [
    "## Standard deviation of features V1-V28 are between 2 and 0.33, while mean is around 0. Normalization or standardization isn't necessary for these features"
   ]
  },
  {
   "cell_type": "code",
   "execution_count": 7,
   "metadata": {
    "scrolled": true
   },
   "outputs": [
    {
     "data": {
      "text/html": [
       "<div>\n",
       "<style scoped>\n",
       "    .dataframe tbody tr th:only-of-type {\n",
       "        vertical-align: middle;\n",
       "    }\n",
       "\n",
       "    .dataframe tbody tr th {\n",
       "        vertical-align: top;\n",
       "    }\n",
       "\n",
       "    .dataframe thead th {\n",
       "        text-align: right;\n",
       "    }\n",
       "</style>\n",
       "<table border=\"1\" class=\"dataframe\">\n",
       "  <thead>\n",
       "    <tr style=\"text-align: right;\">\n",
       "      <th></th>\n",
       "      <th>Time</th>\n",
       "      <th>V1</th>\n",
       "      <th>V2</th>\n",
       "      <th>V3</th>\n",
       "      <th>V4</th>\n",
       "      <th>V5</th>\n",
       "      <th>V6</th>\n",
       "      <th>V7</th>\n",
       "      <th>V8</th>\n",
       "      <th>V9</th>\n",
       "      <th>...</th>\n",
       "      <th>V21</th>\n",
       "      <th>V22</th>\n",
       "      <th>V23</th>\n",
       "      <th>V24</th>\n",
       "      <th>V25</th>\n",
       "      <th>V26</th>\n",
       "      <th>V27</th>\n",
       "      <th>V28</th>\n",
       "      <th>Amount</th>\n",
       "      <th>Class</th>\n",
       "    </tr>\n",
       "  </thead>\n",
       "  <tbody>\n",
       "    <tr>\n",
       "      <th>count</th>\n",
       "      <td>284657.000000</td>\n",
       "      <td>284657.000000</td>\n",
       "      <td>284657.000000</td>\n",
       "      <td>284657.000000</td>\n",
       "      <td>284657.000000</td>\n",
       "      <td>284657.000000</td>\n",
       "      <td>284657.000000</td>\n",
       "      <td>284657.000000</td>\n",
       "      <td>284657.000000</td>\n",
       "      <td>284657.000000</td>\n",
       "      <td>...</td>\n",
       "      <td>284657.000000</td>\n",
       "      <td>284379.000000</td>\n",
       "      <td>284137.000000</td>\n",
       "      <td>284657.000000</td>\n",
       "      <td>284657.000000</td>\n",
       "      <td>284657.000000</td>\n",
       "      <td>284657.000000</td>\n",
       "      <td>284657.000000</td>\n",
       "      <td>284657.000000</td>\n",
       "      <td>284657.000000</td>\n",
       "    </tr>\n",
       "    <tr>\n",
       "      <th>mean</th>\n",
       "      <td>94820.043168</td>\n",
       "      <td>0.000942</td>\n",
       "      <td>-0.000761</td>\n",
       "      <td>0.001280</td>\n",
       "      <td>-0.000844</td>\n",
       "      <td>0.000591</td>\n",
       "      <td>0.000233</td>\n",
       "      <td>0.000956</td>\n",
       "      <td>-0.000145</td>\n",
       "      <td>0.000553</td>\n",
       "      <td>...</td>\n",
       "      <td>-0.000075</td>\n",
       "      <td>-0.000035</td>\n",
       "      <td>0.000011</td>\n",
       "      <td>0.000045</td>\n",
       "      <td>-0.000016</td>\n",
       "      <td>0.000008</td>\n",
       "      <td>-0.000056</td>\n",
       "      <td>-0.000008</td>\n",
       "      <td>88.340966</td>\n",
       "      <td>0.001553</td>\n",
       "    </tr>\n",
       "    <tr>\n",
       "      <th>std</th>\n",
       "      <td>47486.331846</td>\n",
       "      <td>1.955946</td>\n",
       "      <td>1.649907</td>\n",
       "      <td>1.510265</td>\n",
       "      <td>1.413999</td>\n",
       "      <td>1.378060</td>\n",
       "      <td>1.332089</td>\n",
       "      <td>1.230796</td>\n",
       "      <td>1.192554</td>\n",
       "      <td>1.097575</td>\n",
       "      <td>...</td>\n",
       "      <td>0.733731</td>\n",
       "      <td>0.725929</td>\n",
       "      <td>0.625052</td>\n",
       "      <td>0.605657</td>\n",
       "      <td>0.521244</td>\n",
       "      <td>0.482238</td>\n",
       "      <td>0.403245</td>\n",
       "      <td>0.330077</td>\n",
       "      <td>250.129519</td>\n",
       "      <td>0.039374</td>\n",
       "    </tr>\n",
       "    <tr>\n",
       "      <th>min</th>\n",
       "      <td>0.000000</td>\n",
       "      <td>-56.407510</td>\n",
       "      <td>-72.715728</td>\n",
       "      <td>-48.325590</td>\n",
       "      <td>-5.683171</td>\n",
       "      <td>-113.743300</td>\n",
       "      <td>-26.160506</td>\n",
       "      <td>-43.557240</td>\n",
       "      <td>-73.216718</td>\n",
       "      <td>-13.434070</td>\n",
       "      <td>...</td>\n",
       "      <td>-34.830382</td>\n",
       "      <td>-10.933144</td>\n",
       "      <td>-44.807735</td>\n",
       "      <td>-2.836627</td>\n",
       "      <td>-10.295397</td>\n",
       "      <td>-2.604551</td>\n",
       "      <td>-22.565680</td>\n",
       "      <td>-15.430080</td>\n",
       "      <td>0.000000</td>\n",
       "      <td>0.000000</td>\n",
       "    </tr>\n",
       "    <tr>\n",
       "      <th>25%</th>\n",
       "      <td>54208.000000</td>\n",
       "      <td>-0.920083</td>\n",
       "      <td>-0.598696</td>\n",
       "      <td>-0.889759</td>\n",
       "      <td>-0.848833</td>\n",
       "      <td>-0.691445</td>\n",
       "      <td>-0.768153</td>\n",
       "      <td>-0.553921</td>\n",
       "      <td>-0.208633</td>\n",
       "      <td>-0.642783</td>\n",
       "      <td>...</td>\n",
       "      <td>-0.228421</td>\n",
       "      <td>-0.542878</td>\n",
       "      <td>-0.162192</td>\n",
       "      <td>-0.354543</td>\n",
       "      <td>-0.317147</td>\n",
       "      <td>-0.326978</td>\n",
       "      <td>-0.070844</td>\n",
       "      <td>-0.052954</td>\n",
       "      <td>5.600000</td>\n",
       "      <td>0.000000</td>\n",
       "    </tr>\n",
       "    <tr>\n",
       "      <th>50%</th>\n",
       "      <td>84704.000000</td>\n",
       "      <td>0.018393</td>\n",
       "      <td>0.065213</td>\n",
       "      <td>0.179930</td>\n",
       "      <td>-0.020146</td>\n",
       "      <td>-0.054336</td>\n",
       "      <td>-0.274058</td>\n",
       "      <td>0.040115</td>\n",
       "      <td>0.022323</td>\n",
       "      <td>-0.051198</td>\n",
       "      <td>...</td>\n",
       "      <td>-0.029518</td>\n",
       "      <td>0.007694</td>\n",
       "      <td>-0.011614</td>\n",
       "      <td>0.041012</td>\n",
       "      <td>0.016532</td>\n",
       "      <td>-0.052152</td>\n",
       "      <td>0.001326</td>\n",
       "      <td>0.011233</td>\n",
       "      <td>22.000000</td>\n",
       "      <td>0.000000</td>\n",
       "    </tr>\n",
       "    <tr>\n",
       "      <th>75%</th>\n",
       "      <td>139324.000000</td>\n",
       "      <td>1.315753</td>\n",
       "      <td>0.803360</td>\n",
       "      <td>1.027294</td>\n",
       "      <td>0.742826</td>\n",
       "      <td>0.611926</td>\n",
       "      <td>0.398611</td>\n",
       "      <td>0.570420</td>\n",
       "      <td>0.327241</td>\n",
       "      <td>0.597343</td>\n",
       "      <td>...</td>\n",
       "      <td>0.186287</td>\n",
       "      <td>0.529204</td>\n",
       "      <td>0.148051</td>\n",
       "      <td>0.439603</td>\n",
       "      <td>0.350702</td>\n",
       "      <td>0.240932</td>\n",
       "      <td>0.091001</td>\n",
       "      <td>0.078243</td>\n",
       "      <td>77.150000</td>\n",
       "      <td>0.000000</td>\n",
       "    </tr>\n",
       "    <tr>\n",
       "      <th>max</th>\n",
       "      <td>172792.000000</td>\n",
       "      <td>2.454930</td>\n",
       "      <td>22.057730</td>\n",
       "      <td>9.382558</td>\n",
       "      <td>16.875340</td>\n",
       "      <td>34.801666</td>\n",
       "      <td>73.301630</td>\n",
       "      <td>120.589500</td>\n",
       "      <td>20.007208</td>\n",
       "      <td>15.594990</td>\n",
       "      <td>...</td>\n",
       "      <td>27.202839</td>\n",
       "      <td>10.503090</td>\n",
       "      <td>22.528410</td>\n",
       "      <td>4.584549</td>\n",
       "      <td>7.519589</td>\n",
       "      <td>3.517346</td>\n",
       "      <td>31.612200</td>\n",
       "      <td>33.847808</td>\n",
       "      <td>25691.160000</td>\n",
       "      <td>1.000000</td>\n",
       "    </tr>\n",
       "  </tbody>\n",
       "</table>\n",
       "<p>8 rows × 31 columns</p>\n",
       "</div>"
      ],
      "text/plain": [
       "                Time             V1             V2             V3  \\\n",
       "count  284657.000000  284657.000000  284657.000000  284657.000000   \n",
       "mean    94820.043168       0.000942      -0.000761       0.001280   \n",
       "std     47486.331846       1.955946       1.649907       1.510265   \n",
       "min         0.000000     -56.407510     -72.715728     -48.325590   \n",
       "25%     54208.000000      -0.920083      -0.598696      -0.889759   \n",
       "50%     84704.000000       0.018393       0.065213       0.179930   \n",
       "75%    139324.000000       1.315753       0.803360       1.027294   \n",
       "max    172792.000000       2.454930      22.057730       9.382558   \n",
       "\n",
       "                  V4             V5             V6             V7  \\\n",
       "count  284657.000000  284657.000000  284657.000000  284657.000000   \n",
       "mean       -0.000844       0.000591       0.000233       0.000956   \n",
       "std         1.413999       1.378060       1.332089       1.230796   \n",
       "min        -5.683171    -113.743300     -26.160506     -43.557240   \n",
       "25%        -0.848833      -0.691445      -0.768153      -0.553921   \n",
       "50%        -0.020146      -0.054336      -0.274058       0.040115   \n",
       "75%         0.742826       0.611926       0.398611       0.570420   \n",
       "max        16.875340      34.801666      73.301630     120.589500   \n",
       "\n",
       "                  V8             V9  ...            V21            V22  \\\n",
       "count  284657.000000  284657.000000  ...  284657.000000  284379.000000   \n",
       "mean       -0.000145       0.000553  ...      -0.000075      -0.000035   \n",
       "std         1.192554       1.097575  ...       0.733731       0.725929   \n",
       "min       -73.216718     -13.434070  ...     -34.830382     -10.933144   \n",
       "25%        -0.208633      -0.642783  ...      -0.228421      -0.542878   \n",
       "50%         0.022323      -0.051198  ...      -0.029518       0.007694   \n",
       "75%         0.327241       0.597343  ...       0.186287       0.529204   \n",
       "max        20.007208      15.594990  ...      27.202839      10.503090   \n",
       "\n",
       "                 V23            V24            V25            V26  \\\n",
       "count  284137.000000  284657.000000  284657.000000  284657.000000   \n",
       "mean        0.000011       0.000045      -0.000016       0.000008   \n",
       "std         0.625052       0.605657       0.521244       0.482238   \n",
       "min       -44.807735      -2.836627     -10.295397      -2.604551   \n",
       "25%        -0.162192      -0.354543      -0.317147      -0.326978   \n",
       "50%        -0.011614       0.041012       0.016532      -0.052152   \n",
       "75%         0.148051       0.439603       0.350702       0.240932   \n",
       "max        22.528410       4.584549       7.519589       3.517346   \n",
       "\n",
       "                 V27            V28         Amount          Class  \n",
       "count  284657.000000  284657.000000  284657.000000  284657.000000  \n",
       "mean       -0.000056      -0.000008      88.340966       0.001553  \n",
       "std         0.403245       0.330077     250.129519       0.039374  \n",
       "min       -22.565680     -15.430080       0.000000       0.000000  \n",
       "25%        -0.070844      -0.052954       5.600000       0.000000  \n",
       "50%         0.001326       0.011233      22.000000       0.000000  \n",
       "75%         0.091001       0.078243      77.150000       0.000000  \n",
       "max        31.612200      33.847808   25691.160000       1.000000  \n",
       "\n",
       "[8 rows x 31 columns]"
      ]
     },
     "execution_count": 7,
     "metadata": {},
     "output_type": "execute_result"
    }
   ],
   "source": [
    "df_train.describe()"
   ]
  },
  {
   "cell_type": "markdown",
   "metadata": {},
   "source": [
    "### Fraud cases make only 0.156% (442 rows) of all training data. Most of the data is non-fraud cases. This shows that dataset is highly unbalanced."
   ]
  },
  {
   "cell_type": "code",
   "execution_count": 8,
   "metadata": {},
   "outputs": [
    {
     "data": {
      "image/png": "[encoded data removed]",
      "text/plain": [
       "<Figure size 432x288 with 1 Axes>"
      ]
     },
     "metadata": {
      "needs_background": "light"
     },
     "output_type": "display_data"
    }
   ],
   "source": [
    "sns.countplot(data=df_train, x='Class')\n",
    "plt.title(\"Distribution of Class (0 - normal, 1 - fraud)\");"
   ]
  },
  {
   "cell_type": "code",
   "execution_count": 9,
   "metadata": {},
   "outputs": [
    {
     "data": {
      "text/plain": [
       "0    284215\n",
       "1       442\n",
       "Name: Class, dtype: int64"
      ]
     },
     "execution_count": 9,
     "metadata": {},
     "output_type": "execute_result"
    }
   ],
   "source": [
    "df_train['Class'].value_counts()"
   ]
  },
  {
   "cell_type": "code",
   "execution_count": 10,
   "metadata": {},
   "outputs": [
    {
     "name": "stdout",
     "output_type": "stream",
     "text": [
      "Percentage of fraud rows:  0.15527459363374166\n"
     ]
    }
   ],
   "source": [
    "all_rows = df_train.shape[0]\n",
    "fraud_rows = (df_train['Class'] == 1).sum()\n",
    " \n",
    "print(\"Percentage of fraud rows: \", fraud_rows / all_rows * 100)"
   ]
  },
  {
   "cell_type": "markdown",
   "metadata": {},
   "source": [
    "### Distribution of Time"
   ]
  },
  {
   "cell_type": "code",
   "execution_count": 11,
   "metadata": {},
   "outputs": [
    {
     "data": {
      "image/png": "[encoded data removed]",
      "text/plain": [
       "<Figure size 432x288 with 1 Axes>"
      ]
     },
     "metadata": {
      "needs_background": "light"
     },
     "output_type": "display_data"
    }
   ],
   "source": [
    "plt.hist(df_train['Time'], bins=100)\n",
    "plt.title('Distribution of Time')\n",
    "plt.xlabel('Time');"
   ]
  },
  {
   "cell_type": "markdown",
   "metadata": {},
   "source": [
    "### Distribution of Amount \n",
    "#### Amount is positively skewed"
   ]
  },
  {
   "cell_type": "code",
   "execution_count": 12,
   "metadata": {
    "scrolled": true
   },
   "outputs": [
    {
     "data": {
      "image/png": "[encoded data removed]",
      "text/plain": [
       "<Figure size 432x288 with 1 Axes>"
      ]
     },
     "metadata": {
      "needs_background": "light"
     },
     "output_type": "display_data"
    }
   ],
   "source": [
    "plt.hist(df_train['Amount'], bins=50)\n",
    "plt.title('Distribution of Amount')\n",
    "plt.xlabel('Amount');"
   ]
  },
  {
   "cell_type": "code",
   "execution_count": 13,
   "metadata": {},
   "outputs": [],
   "source": [
    "V_features = ['V{}'.format(i) for i in range(1,29)]"
   ]
  },
  {
   "cell_type": "markdown",
   "metadata": {},
   "source": [
    "## Missing values"
   ]
  },
  {
   "cell_type": "markdown",
   "metadata": {},
   "source": [
    "### There are missing values in V22 and V23. And they make 0.28% of all data"
   ]
  },
  {
   "cell_type": "code",
   "execution_count": 14,
   "metadata": {},
   "outputs": [
    {
     "data": {
      "text/plain": [
       "Time        0\n",
       "V1          0\n",
       "V2          0\n",
       "V3          0\n",
       "V4          0\n",
       "V5          0\n",
       "V6          0\n",
       "V7          0\n",
       "V8          0\n",
       "V9          0\n",
       "V10         0\n",
       "V11         0\n",
       "V12         0\n",
       "V13         0\n",
       "V14         0\n",
       "V15         0\n",
       "V16         0\n",
       "V17         0\n",
       "V18         0\n",
       "V19         0\n",
       "V20         0\n",
       "V21         0\n",
       "V22       278\n",
       "V23       520\n",
       "V24         0\n",
       "V25         0\n",
       "V26         0\n",
       "V27         0\n",
       "V28         0\n",
       "Amount      0\n",
       "Class       0\n",
       "dtype: int64"
      ]
     },
     "execution_count": 14,
     "metadata": {},
     "output_type": "execute_result"
    }
   ],
   "source": [
    "df_train.isna().sum()"
   ]
  },
  {
   "cell_type": "code",
   "execution_count": 15,
   "metadata": {},
   "outputs": [
    {
     "data": {
      "text/plain": [
       "0.2803373885061671"
      ]
     },
     "execution_count": 15,
     "metadata": {},
     "output_type": "execute_result"
    }
   ],
   "source": [
    "(520 + 278) / df_train.shape[0] * 100"
   ]
  },
  {
   "cell_type": "markdown",
   "metadata": {},
   "source": [
    "### There is no correlated features with V22 and V23, so that, we cannot do imputation"
   ]
  },
  {
   "cell_type": "code",
   "execution_count": 16,
   "metadata": {
    "scrolled": false
   },
   "outputs": [
    {
     "data": {
      "image/png": "[encoded data removed]",
      "text/plain": [
       "<Figure size 720x648 with 2 Axes>"
      ]
     },
     "metadata": {
      "needs_background": "light"
     },
     "output_type": "display_data"
    }
   ],
   "source": [
    "plt.figure(figsize=(10, 9))\n",
    "sns.heatmap(df_train.corr(), linewidth=0.05)\n",
    "plt.title(\"Correlation matrix\");"
   ]
  },
  {
   "cell_type": "markdown",
   "metadata": {},
   "source": [
    "### There is no fraud cases in rows that contain missing values. It means if I drop them I don't lose any valueable information, which is fraud case"
   ]
  },
  {
   "cell_type": "code",
   "execution_count": 17,
   "metadata": {},
   "outputs": [
    {
     "data": {
      "text/plain": [
       "0"
      ]
     },
     "execution_count": 17,
     "metadata": {},
     "output_type": "execute_result"
    }
   ],
   "source": [
    "# Number of fraud cases in rows that V22 value is missing\n",
    "(df_train.loc[df_train['V23'].isna(), 'Class'] == 1).sum()"
   ]
  },
  {
   "cell_type": "code",
   "execution_count": 18,
   "metadata": {},
   "outputs": [
    {
     "data": {
      "text/plain": [
       "0"
      ]
     },
     "execution_count": 18,
     "metadata": {},
     "output_type": "execute_result"
    }
   ],
   "source": [
    "# Number of fraud cases in rows that V23 value is missing\n",
    "(df_train.loc[df_train['V22'].isna(), 'Class'] == 1).sum()"
   ]
  },
  {
   "cell_type": "markdown",
   "metadata": {},
   "source": [
    "## Removed Missing Values"
   ]
  },
  {
   "cell_type": "code",
   "execution_count": 19,
   "metadata": {},
   "outputs": [],
   "source": [
    "df_train = df_train.dropna()"
   ]
  },
  {
   "cell_type": "markdown",
   "metadata": {},
   "source": [
    "## Dealing with Outliers"
   ]
  },
  {
   "cell_type": "markdown",
   "metadata": {},
   "source": [
    "### IQR test"
   ]
  },
  {
   "cell_type": "markdown",
   "metadata": {},
   "source": [
    "### Outliers of IQR test make 21% of data."
   ]
  },
  {
   "cell_type": "code",
   "execution_count": 20,
   "metadata": {},
   "outputs": [],
   "source": [
    "q25 = df_train[V_features].quantile(q=0.25)\n",
    "q75 = df_train[V_features].quantile(q=0.75)\n",
    "IQR = q75 - q25\n",
    "\n",
    "df_train['Outlier'] = ((df_train[V_features] < (q25 - 2.5 * IQR)) | \n",
    "                                (df_train[V_features] > (q75 + 2.5 * IQR))).sum(axis=1) > 0"
   ]
  },
  {
   "cell_type": "code",
   "execution_count": 21,
   "metadata": {},
   "outputs": [
    {
     "data": {
      "text/plain": [
       "0.21376810317798625"
      ]
     },
     "execution_count": 21,
     "metadata": {},
     "output_type": "execute_result"
    }
   ],
   "source": [
    "(df_train['Outlier'] == True).sum() / df_train.shape[0]"
   ]
  },
  {
   "cell_type": "markdown",
   "metadata": {},
   "source": [
    "### The number of fraud cases"
   ]
  },
  {
   "cell_type": "code",
   "execution_count": 22,
   "metadata": {},
   "outputs": [
    {
     "data": {
      "text/plain": [
       "442"
      ]
     },
     "execution_count": 22,
     "metadata": {},
     "output_type": "execute_result"
    }
   ],
   "source": [
    "fraud = df_train[df_train['Class'] == 1]\n",
    "normal = df_train[df_train['Class'] == 0]\n",
    "fraud.shape[0]"
   ]
  },
  {
   "cell_type": "markdown",
   "metadata": {},
   "source": [
    "### The number of outliers in fraud data"
   ]
  },
  {
   "cell_type": "code",
   "execution_count": 23,
   "metadata": {},
   "outputs": [
    {
     "data": {
      "text/plain": [
       "406"
      ]
     },
     "execution_count": 23,
     "metadata": {},
     "output_type": "execute_result"
    }
   ],
   "source": [
    "fraud['Outlier'].sum()"
   ]
  },
  {
   "cell_type": "markdown",
   "metadata": {},
   "source": [
    "### If I delete outliers, I lose 92% of fraud data, which is rare in the given dataset. It shows outliers capture important information about fraud. So, we keep all outliers"
   ]
  },
  {
   "cell_type": "code",
   "execution_count": 24,
   "metadata": {},
   "outputs": [
    {
     "name": "stdout",
     "output_type": "stream",
     "text": [
      "91.8552036199095\n"
     ]
    }
   ],
   "source": [
    "print(406 / 442 * 100)"
   ]
  },
  {
   "cell_type": "code",
   "execution_count": 25,
   "metadata": {},
   "outputs": [],
   "source": [
    "# Outlier is not necessary any more. So, I drop it\n",
    "df_train = df_train.drop('Outlier', axis=1)"
   ]
  },
  {
   "cell_type": "markdown",
   "metadata": {},
   "source": [
    "### Module 2: Data Visualization\n",
    "What are the distributions of variables? Are the variables distributed differently in the Fraud group and in the Normal group? Use tables and/or figures to visualize your exploration and findings. Present no more than 5 figures/tables that you think are important, and you may state in your findings that other variables a, b, c have similar patterns."
   ]
  },
  {
   "cell_type": "markdown",
   "metadata": {},
   "source": [
    "### Mean values of many features in fraud cases are considerably dfiferent than normal cases. it shows different distributions. Some of them are visualized as example"
   ]
  },
  {
   "cell_type": "code",
   "execution_count": 26,
   "metadata": {},
   "outputs": [
    {
     "data": {
      "text/html": [
       "<div>\n",
       "<style scoped>\n",
       "    .dataframe tbody tr th:only-of-type {\n",
       "        vertical-align: middle;\n",
       "    }\n",
       "\n",
       "    .dataframe tbody tr th {\n",
       "        vertical-align: top;\n",
       "    }\n",
       "\n",
       "    .dataframe thead th {\n",
       "        text-align: right;\n",
       "    }\n",
       "</style>\n",
       "<table border=\"1\" class=\"dataframe\">\n",
       "  <thead>\n",
       "    <tr style=\"text-align: right;\">\n",
       "      <th></th>\n",
       "      <th>Fraud (mean)</th>\n",
       "      <th>Normal (mean)</th>\n",
       "    </tr>\n",
       "  </thead>\n",
       "  <tbody>\n",
       "    <tr>\n",
       "      <th>Time</th>\n",
       "      <td>81877.730769</td>\n",
       "      <td>94869.497137</td>\n",
       "    </tr>\n",
       "    <tr>\n",
       "      <th>V1</th>\n",
       "      <td>-4.739654</td>\n",
       "      <td>0.007224</td>\n",
       "    </tr>\n",
       "    <tr>\n",
       "      <th>V2</th>\n",
       "      <td>3.599867</td>\n",
       "      <td>-0.006540</td>\n",
       "    </tr>\n",
       "    <tr>\n",
       "      <th>V3</th>\n",
       "      <td>-6.968586</td>\n",
       "      <td>0.011709</td>\n",
       "    </tr>\n",
       "    <tr>\n",
       "      <th>V4</th>\n",
       "      <td>4.497262</td>\n",
       "      <td>-0.008042</td>\n",
       "    </tr>\n",
       "    <tr>\n",
       "      <th>V5</th>\n",
       "      <td>-3.100015</td>\n",
       "      <td>0.005822</td>\n",
       "    </tr>\n",
       "    <tr>\n",
       "      <th>V6</th>\n",
       "      <td>-1.398321</td>\n",
       "      <td>0.002501</td>\n",
       "    </tr>\n",
       "    <tr>\n",
       "      <th>V7</th>\n",
       "      <td>-5.526510</td>\n",
       "      <td>0.009705</td>\n",
       "    </tr>\n",
       "    <tr>\n",
       "      <th>V8</th>\n",
       "      <td>0.561622</td>\n",
       "      <td>-0.001201</td>\n",
       "    </tr>\n",
       "    <tr>\n",
       "      <th>V9</th>\n",
       "      <td>-2.551473</td>\n",
       "      <td>0.004451</td>\n",
       "    </tr>\n",
       "    <tr>\n",
       "      <th>V10</th>\n",
       "      <td>-5.569682</td>\n",
       "      <td>0.009805</td>\n",
       "    </tr>\n",
       "    <tr>\n",
       "      <th>V11</th>\n",
       "      <td>3.728979</td>\n",
       "      <td>-0.006741</td>\n",
       "    </tr>\n",
       "    <tr>\n",
       "      <th>V12</th>\n",
       "      <td>-6.119122</td>\n",
       "      <td>0.011024</td>\n",
       "    </tr>\n",
       "    <tr>\n",
       "      <th>V13</th>\n",
       "      <td>-0.111128</td>\n",
       "      <td>0.000407</td>\n",
       "    </tr>\n",
       "    <tr>\n",
       "      <th>V14</th>\n",
       "      <td>-6.850513</td>\n",
       "      <td>0.011957</td>\n",
       "    </tr>\n",
       "    <tr>\n",
       "      <th>V15</th>\n",
       "      <td>-0.062848</td>\n",
       "      <td>0.000155</td>\n",
       "    </tr>\n",
       "    <tr>\n",
       "      <th>V16</th>\n",
       "      <td>-4.066999</td>\n",
       "      <td>0.007355</td>\n",
       "    </tr>\n",
       "    <tr>\n",
       "      <th>V17</th>\n",
       "      <td>-6.538137</td>\n",
       "      <td>0.011417</td>\n",
       "    </tr>\n",
       "    <tr>\n",
       "      <th>V18</th>\n",
       "      <td>-2.198089</td>\n",
       "      <td>0.003882</td>\n",
       "    </tr>\n",
       "    <tr>\n",
       "      <th>V19</th>\n",
       "      <td>0.699262</td>\n",
       "      <td>-0.001134</td>\n",
       "    </tr>\n",
       "    <tr>\n",
       "      <th>V20</th>\n",
       "      <td>0.364306</td>\n",
       "      <td>-0.000512</td>\n",
       "    </tr>\n",
       "    <tr>\n",
       "      <th>V21</th>\n",
       "      <td>0.753739</td>\n",
       "      <td>-0.001143</td>\n",
       "    </tr>\n",
       "    <tr>\n",
       "      <th>V22</th>\n",
       "      <td>-0.011382</td>\n",
       "      <td>-0.000043</td>\n",
       "    </tr>\n",
       "    <tr>\n",
       "      <th>V23</th>\n",
       "      <td>-0.042574</td>\n",
       "      <td>0.000095</td>\n",
       "    </tr>\n",
       "    <tr>\n",
       "      <th>V24</th>\n",
       "      <td>-0.104746</td>\n",
       "      <td>0.000129</td>\n",
       "    </tr>\n",
       "    <tr>\n",
       "      <th>V25</th>\n",
       "      <td>0.034776</td>\n",
       "      <td>-0.000249</td>\n",
       "    </tr>\n",
       "    <tr>\n",
       "      <th>V26</th>\n",
       "      <td>0.049510</td>\n",
       "      <td>-0.000125</td>\n",
       "    </tr>\n",
       "    <tr>\n",
       "      <th>V27</th>\n",
       "      <td>0.155221</td>\n",
       "      <td>-0.000311</td>\n",
       "    </tr>\n",
       "    <tr>\n",
       "      <th>V28</th>\n",
       "      <td>0.082283</td>\n",
       "      <td>-0.000132</td>\n",
       "    </tr>\n",
       "    <tr>\n",
       "      <th>Amount</th>\n",
       "      <td>119.798710</td>\n",
       "      <td>88.376354</td>\n",
       "    </tr>\n",
       "    <tr>\n",
       "      <th>Class</th>\n",
       "      <td>1.000000</td>\n",
       "      <td>0.000000</td>\n",
       "    </tr>\n",
       "    <tr>\n",
       "      <th>Outlier</th>\n",
       "      <td>0.918552</td>\n",
       "      <td>0.212669</td>\n",
       "    </tr>\n",
       "  </tbody>\n",
       "</table>\n",
       "</div>"
      ],
      "text/plain": [
       "         Fraud (mean)  Normal (mean)\n",
       "Time     81877.730769   94869.497137\n",
       "V1          -4.739654       0.007224\n",
       "V2           3.599867      -0.006540\n",
       "V3          -6.968586       0.011709\n",
       "V4           4.497262      -0.008042\n",
       "V5          -3.100015       0.005822\n",
       "V6          -1.398321       0.002501\n",
       "V7          -5.526510       0.009705\n",
       "V8           0.561622      -0.001201\n",
       "V9          -2.551473       0.004451\n",
       "V10         -5.569682       0.009805\n",
       "V11          3.728979      -0.006741\n",
       "V12         -6.119122       0.011024\n",
       "V13         -0.111128       0.000407\n",
       "V14         -6.850513       0.011957\n",
       "V15         -0.062848       0.000155\n",
       "V16         -4.066999       0.007355\n",
       "V17         -6.538137       0.011417\n",
       "V18         -2.198089       0.003882\n",
       "V19          0.699262      -0.001134\n",
       "V20          0.364306      -0.000512\n",
       "V21          0.753739      -0.001143\n",
       "V22         -0.011382      -0.000043\n",
       "V23         -0.042574       0.000095\n",
       "V24         -0.104746       0.000129\n",
       "V25          0.034776      -0.000249\n",
       "V26          0.049510      -0.000125\n",
       "V27          0.155221      -0.000311\n",
       "V28          0.082283      -0.000132\n",
       "Amount     119.798710      88.376354\n",
       "Class        1.000000       0.000000\n",
       "Outlier      0.918552       0.212669"
      ]
     },
     "execution_count": 26,
     "metadata": {},
     "output_type": "execute_result"
    }
   ],
   "source": [
    "pd.DataFrame([fraud.mean(), normal.mean()], index=['Fraud (mean)', 'Normal (mean)']).T"
   ]
  },
  {
   "cell_type": "markdown",
   "metadata": {},
   "source": [
    "### Visualization of features with different distribution in fraud and normal cases"
   ]
  },
  {
   "cell_type": "code",
   "execution_count": 27,
   "metadata": {},
   "outputs": [
    {
     "data": {
      "image/png": "[encoded data removed]",
      "text/plain": [
       "<Figure size 432x288 with 1 Axes>"
      ]
     },
     "metadata": {
      "needs_background": "light"
     },
     "output_type": "display_data"
    }
   ],
   "source": [
    "plt.hist(df_train.loc[df_train['Class']==0, 'V4'], bins=range(-5, 15),density=True, alpha=0.5, label='Non-fraud')\n",
    "plt.hist(df_train.loc[df_train['Class']==1, 'V4'], bins=range(-5, 15),density=True, alpha=0.5, label='Fraud')\n",
    "plt.legend()\n",
    "plt.title(\"Frequency density of V4\");"
   ]
  },
  {
   "cell_type": "code",
   "execution_count": 28,
   "metadata": {},
   "outputs": [
    {
     "data": {
      "image/png": "[encoded data removed]",
      "text/plain": [
       "<Figure size 432x288 with 1 Axes>"
      ]
     },
     "metadata": {
      "needs_background": "light"
     },
     "output_type": "display_data"
    }
   ],
   "source": [
    "plt.hist(df_train.loc[df_train['Class']==0, 'V11'], bins=range(-5, 13),density=True, alpha=0.5, label='Non-fraud')\n",
    "plt.hist(df_train.loc[df_train['Class']==1, 'V11'], bins=range(-5, 13),density=True, alpha=0.5, label='Fraud')\n",
    "plt.legend()\n",
    "plt.title(\"Frequency density of V11\");"
   ]
  },
  {
   "cell_type": "code",
   "execution_count": 29,
   "metadata": {},
   "outputs": [
    {
     "data": {
      "image/png": "[encoded data removed]",
      "text/plain": [
       "<Figure size 432x288 with 1 Axes>"
      ]
     },
     "metadata": {
      "needs_background": "light"
     },
     "output_type": "display_data"
    }
   ],
   "source": [
    "plt.hist(df_train.loc[df_train['Class']==0, 'V12'], bins=range(-20, 5),density=True, alpha=0.5, label='Non-fraud')\n",
    "plt.hist(df_train.loc[df_train['Class']==1, 'V12'], bins=range(-20, 5),density=True, alpha=0.5, label='Fraud')\n",
    "plt.legend()\n",
    "plt.title(\"Frequency density of V12\");"
   ]
  },
  {
   "cell_type": "code",
   "execution_count": 30,
   "metadata": {},
   "outputs": [
    {
     "data": {
      "image/png": "[encoded data removed]",
      "text/plain": [
       "<Figure size 432x288 with 1 Axes>"
      ]
     },
     "metadata": {
      "needs_background": "light"
     },
     "output_type": "display_data"
    }
   ],
   "source": [
    "plt.hist(df_train.loc[df_train['Class']==0, 'V14'], bins=range(-20, 10),density=True, alpha=0.5, label='Non-fraud')\n",
    "plt.hist(df_train.loc[df_train['Class']==1, 'V14'], bins=range(-20, 10),density=True, alpha=0.5, label='Fraud')\n",
    "plt.legend()\n",
    "plt.title(\"Frequency density of V14\");"
   ]
  },
  {
   "cell_type": "markdown",
   "metadata": {},
   "source": [
    "### Most of features' distribution is close to normal distribution (Gaussian).  Especially, distribution of fraud data is like normal distribution"
   ]
  },
  {
   "cell_type": "markdown",
   "metadata": {},
   "source": [
    "### Variables V4, V10, V11, V12, V14, V16, V17 are distributed differently in fraud and normal data\n",
    "\n",
    "-----"
   ]
  },
  {
   "cell_type": "markdown",
   "metadata": {},
   "source": [
    "### Module 3: Dimension Reduction\n",
    "Apply unsupervised learning methods to achieve dimension reduction. Visualize and interpret the results. Any dimension reduction algorithms can be used."
   ]
  },
  {
   "cell_type": "markdown",
   "metadata": {},
   "source": [
    "### Standardization"
   ]
  },
  {
   "cell_type": "markdown",
   "metadata": {},
   "source": [
    "Values of Time and Amout varies a lot comparing to other features. Due to Time and Amount's large variance, dimention reduction algorithms will capture mostly Time and Amount. Therefore, I need to scale them"
   ]
  },
  {
   "cell_type": "markdown",
   "metadata": {},
   "source": [
    "#### When training data is scaled, test data should be scaled too"
   ]
  },
  {
   "cell_type": "code",
   "execution_count": 31,
   "metadata": {},
   "outputs": [],
   "source": [
    "from sklearn.preprocessing import StandardScaler"
   ]
  },
  {
   "cell_type": "code",
   "execution_count": 32,
   "metadata": {},
   "outputs": [],
   "source": [
    "scaler = StandardScaler()\n",
    "df_train['Amount_scaled'] = scaler.fit_transform(df_train[['Amount']])\n",
    "df_test['Amount_scaled'] = scaler.transform(df_test[['Amount']])"
   ]
  },
  {
   "cell_type": "code",
   "execution_count": 33,
   "metadata": {},
   "outputs": [],
   "source": [
    "df_train['Time_scaled'] = scaler.fit_transform(df_train[['Time']])\n",
    "df_test['Time_scaled'] = scaler.transform(df_test[['Time']])"
   ]
  },
  {
   "cell_type": "code",
   "execution_count": 34,
   "metadata": {},
   "outputs": [],
   "source": [
    "df_train = df_train.drop(['Amount', 'Time'], axis=1)\n",
    "df_test = df_test.drop(['Amount', 'Time'], axis=1)"
   ]
  },
  {
   "cell_type": "code",
   "execution_count": 35,
   "metadata": {},
   "outputs": [],
   "source": [
    "X = df_train.drop(['Class'], axis=1)\n",
    "y = df_train['Class']"
   ]
  },
  {
   "cell_type": "markdown",
   "metadata": {},
   "source": [
    "### Under-sampling\n",
    "\n",
    "In classification part (module 4), I will use under-sampling. In order to test how the same data can be classified using dimention reduction algorithms, I implement under-sampling in this part (module 3)."
   ]
  },
  {
   "cell_type": "markdown",
   "metadata": {},
   "source": [
    "In under-sampling, I create a new dataframe with the same number of fraud and non-fraud cases. The number of fraud cases is 442, so I take 442 rows of non-fraud data."
   ]
  },
  {
   "cell_type": "code",
   "execution_count": 36,
   "metadata": {},
   "outputs": [],
   "source": [
    "# shuffling data\n",
    "shuffled_df_train = df_train.sample(frac=1, random_state=1)\n",
    "\n",
    "fraud_df = shuffled_df_train.loc[df_train['Class'] == 1]\n",
    "normal_df = shuffled_df_train.loc[df_train['Class'] == 0][:442]\n",
    "\n",
    "new_df_train = pd.concat([fraud_df, normal_df]).sample(frac=1, random_state=2)"
   ]
  },
  {
   "cell_type": "code",
   "execution_count": 37,
   "metadata": {},
   "outputs": [
    {
     "data": {
      "text/html": [
       "<div>\n",
       "<style scoped>\n",
       "    .dataframe tbody tr th:only-of-type {\n",
       "        vertical-align: middle;\n",
       "    }\n",
       "\n",
       "    .dataframe tbody tr th {\n",
       "        vertical-align: top;\n",
       "    }\n",
       "\n",
       "    .dataframe thead th {\n",
       "        text-align: right;\n",
       "    }\n",
       "</style>\n",
       "<table border=\"1\" class=\"dataframe\">\n",
       "  <thead>\n",
       "    <tr style=\"text-align: right;\">\n",
       "      <th></th>\n",
       "      <th>V1</th>\n",
       "      <th>V2</th>\n",
       "      <th>V3</th>\n",
       "      <th>V4</th>\n",
       "      <th>V5</th>\n",
       "      <th>V6</th>\n",
       "      <th>V7</th>\n",
       "      <th>V8</th>\n",
       "      <th>V9</th>\n",
       "      <th>V10</th>\n",
       "      <th>...</th>\n",
       "      <th>V22</th>\n",
       "      <th>V23</th>\n",
       "      <th>V24</th>\n",
       "      <th>V25</th>\n",
       "      <th>V26</th>\n",
       "      <th>V27</th>\n",
       "      <th>V28</th>\n",
       "      <th>Class</th>\n",
       "      <th>Amount_scaled</th>\n",
       "      <th>Time_scaled</th>\n",
       "    </tr>\n",
       "  </thead>\n",
       "  <tbody>\n",
       "    <tr>\n",
       "      <th>40494</th>\n",
       "      <td>1.159373</td>\n",
       "      <td>2.844795</td>\n",
       "      <td>-4.050680</td>\n",
       "      <td>4.777701</td>\n",
       "      <td>2.948980</td>\n",
       "      <td>-2.010361</td>\n",
       "      <td>1.744086</td>\n",
       "      <td>-0.410287</td>\n",
       "      <td>-2.450198</td>\n",
       "      <td>-2.042168</td>\n",
       "      <td>...</td>\n",
       "      <td>-0.433470</td>\n",
       "      <td>-0.529323</td>\n",
       "      <td>-0.597020</td>\n",
       "      <td>1.335954</td>\n",
       "      <td>0.547092</td>\n",
       "      <td>0.009979</td>\n",
       "      <td>0.160769</td>\n",
       "      <td>1</td>\n",
       "      <td>-0.349118</td>\n",
       "      <td>-1.149262</td>\n",
       "    </tr>\n",
       "    <tr>\n",
       "      <th>42907</th>\n",
       "      <td>-13.680760</td>\n",
       "      <td>6.990389</td>\n",
       "      <td>-13.770001</td>\n",
       "      <td>8.694897</td>\n",
       "      <td>-11.426968</td>\n",
       "      <td>-2.919845</td>\n",
       "      <td>-14.594562</td>\n",
       "      <td>8.622905</td>\n",
       "      <td>-8.090697</td>\n",
       "      <td>-12.780634</td>\n",
       "      <td>...</td>\n",
       "      <td>0.497599</td>\n",
       "      <td>-0.509290</td>\n",
       "      <td>0.732503</td>\n",
       "      <td>0.280528</td>\n",
       "      <td>0.280037</td>\n",
       "      <td>-1.406687</td>\n",
       "      <td>-0.663643</td>\n",
       "      <td>1</td>\n",
       "      <td>-0.350077</td>\n",
       "      <td>-1.127529</td>\n",
       "    </tr>\n",
       "    <tr>\n",
       "      <th>50352</th>\n",
       "      <td>-0.343595</td>\n",
       "      <td>1.035378</td>\n",
       "      <td>0.381325</td>\n",
       "      <td>0.753110</td>\n",
       "      <td>-0.010659</td>\n",
       "      <td>-0.061422</td>\n",
       "      <td>0.393586</td>\n",
       "      <td>0.439276</td>\n",
       "      <td>-0.921654</td>\n",
       "      <td>-0.235532</td>\n",
       "      <td>...</td>\n",
       "      <td>0.399977</td>\n",
       "      <td>-0.046590</td>\n",
       "      <td>-0.353342</td>\n",
       "      <td>-0.055287</td>\n",
       "      <td>-0.304016</td>\n",
       "      <td>-0.064456</td>\n",
       "      <td>-0.032168</td>\n",
       "      <td>0</td>\n",
       "      <td>-0.135395</td>\n",
       "      <td>-1.060898</td>\n",
       "    </tr>\n",
       "    <tr>\n",
       "      <th>200982</th>\n",
       "      <td>1.176633</td>\n",
       "      <td>3.141918</td>\n",
       "      <td>-6.140445</td>\n",
       "      <td>5.521821</td>\n",
       "      <td>1.768515</td>\n",
       "      <td>-1.727186</td>\n",
       "      <td>-0.932429</td>\n",
       "      <td>0.292797</td>\n",
       "      <td>-3.156827</td>\n",
       "      <td>-3.898240</td>\n",
       "      <td>...</td>\n",
       "      <td>-0.803021</td>\n",
       "      <td>-0.074098</td>\n",
       "      <td>-0.031084</td>\n",
       "      <td>0.375366</td>\n",
       "      <td>0.065897</td>\n",
       "      <td>0.488258</td>\n",
       "      <td>0.325872</td>\n",
       "      <td>1</td>\n",
       "      <td>-0.353112</td>\n",
       "      <td>0.818813</td>\n",
       "    </tr>\n",
       "    <tr>\n",
       "      <th>42920</th>\n",
       "      <td>-13.897206</td>\n",
       "      <td>6.344280</td>\n",
       "      <td>-14.281666</td>\n",
       "      <td>5.581009</td>\n",
       "      <td>-12.887133</td>\n",
       "      <td>-3.146176</td>\n",
       "      <td>-15.450467</td>\n",
       "      <td>9.060281</td>\n",
       "      <td>-5.486121</td>\n",
       "      <td>-14.676470</td>\n",
       "      <td>...</td>\n",
       "      <td>0.941180</td>\n",
       "      <td>-0.232710</td>\n",
       "      <td>0.763508</td>\n",
       "      <td>0.075456</td>\n",
       "      <td>-0.453840</td>\n",
       "      <td>-1.508968</td>\n",
       "      <td>-0.686836</td>\n",
       "      <td>1</td>\n",
       "      <td>-0.313218</td>\n",
       "      <td>-1.127423</td>\n",
       "    </tr>\n",
       "  </tbody>\n",
       "</table>\n",
       "<p>5 rows × 31 columns</p>\n",
       "</div>"
      ],
      "text/plain": [
       "               V1        V2         V3        V4         V5        V6  \\\n",
       "40494    1.159373  2.844795  -4.050680  4.777701   2.948980 -2.010361   \n",
       "42907  -13.680760  6.990389 -13.770001  8.694897 -11.426968 -2.919845   \n",
       "50352   -0.343595  1.035378   0.381325  0.753110  -0.010659 -0.061422   \n",
       "200982   1.176633  3.141918  -6.140445  5.521821   1.768515 -1.727186   \n",
       "42920  -13.897206  6.344280 -14.281666  5.581009 -12.887133 -3.146176   \n",
       "\n",
       "               V7        V8        V9        V10  ...       V22       V23  \\\n",
       "40494    1.744086 -0.410287 -2.450198  -2.042168  ... -0.433470 -0.529323   \n",
       "42907  -14.594562  8.622905 -8.090697 -12.780634  ...  0.497599 -0.509290   \n",
       "50352    0.393586  0.439276 -0.921654  -0.235532  ...  0.399977 -0.046590   \n",
       "200982  -0.932429  0.292797 -3.156827  -3.898240  ... -0.803021 -0.074098   \n",
       "42920  -15.450467  9.060281 -5.486121 -14.676470  ...  0.941180 -0.232710   \n",
       "\n",
       "             V24       V25       V26       V27       V28  Class  \\\n",
       "40494  -0.597020  1.335954  0.547092  0.009979  0.160769      1   \n",
       "42907   0.732503  0.280528  0.280037 -1.406687 -0.663643      1   \n",
       "50352  -0.353342 -0.055287 -0.304016 -0.064456 -0.032168      0   \n",
       "200982 -0.031084  0.375366  0.065897  0.488258  0.325872      1   \n",
       "42920   0.763508  0.075456 -0.453840 -1.508968 -0.686836      1   \n",
       "\n",
       "        Amount_scaled  Time_scaled  \n",
       "40494       -0.349118    -1.149262  \n",
       "42907       -0.350077    -1.127529  \n",
       "50352       -0.135395    -1.060898  \n",
       "200982      -0.353112     0.818813  \n",
       "42920       -0.313218    -1.127423  \n",
       "\n",
       "[5 rows x 31 columns]"
      ]
     },
     "execution_count": 37,
     "metadata": {},
     "output_type": "execute_result"
    }
   ],
   "source": [
    "new_df_train.head()"
   ]
  },
  {
   "cell_type": "code",
   "execution_count": 38,
   "metadata": {},
   "outputs": [
    {
     "data": {
      "text/plain": [
       "(884, 31)"
      ]
     },
     "execution_count": 38,
     "metadata": {},
     "output_type": "execute_result"
    }
   ],
   "source": [
    "new_df_train.shape"
   ]
  },
  {
   "cell_type": "code",
   "execution_count": 39,
   "metadata": {},
   "outputs": [],
   "source": [
    "X_train = new_df_train.drop('Class', axis=1)\n",
    "y_train = new_df_train['Class']"
   ]
  },
  {
   "cell_type": "markdown",
   "metadata": {},
   "source": [
    "### PCA ( Principal component analysis )"
   ]
  },
  {
   "cell_type": "code",
   "execution_count": 40,
   "metadata": {},
   "outputs": [],
   "source": [
    "from sklearn.decomposition import PCA"
   ]
  },
  {
   "cell_type": "code",
   "execution_count": 41,
   "metadata": {},
   "outputs": [],
   "source": [
    "X_pca = PCA(n_components=2, random_state=1).fit_transform(X_train)"
   ]
  },
  {
   "cell_type": "code",
   "execution_count": 42,
   "metadata": {},
   "outputs": [
    {
     "data": {
      "image/png": "[encoded data removed]",
      "text/plain": [
       "<Figure size 432x288 with 1 Axes>"
      ]
     },
     "metadata": {
      "needs_background": "light"
     },
     "output_type": "display_data"
    }
   ],
   "source": [
    "sns.scatterplot(x=X_pca[:,0], y=X_pca[:,1], hue=y_train)\n",
    "plt.title('PCA');"
   ]
  },
  {
   "cell_type": "markdown",
   "metadata": {},
   "source": [
    "### TSNE ( t-distributed Stochastic Neighbor Embedding)"
   ]
  },
  {
   "cell_type": "markdown",
   "metadata": {},
   "source": [
    "### t-SNE is recommended in sklearn documentation \n",
    "\"For visualization purpose (which is the main use case of t-SNE), using the Barnes-Hut method is strongly recommended\". [link](https://scikit-learn.org/stable/modules/manifold.html)"
   ]
  },
  {
   "cell_type": "code",
   "execution_count": 43,
   "metadata": {},
   "outputs": [],
   "source": [
    "from sklearn.manifold import TSNE"
   ]
  },
  {
   "cell_type": "code",
   "execution_count": 44,
   "metadata": {},
   "outputs": [],
   "source": [
    "tsne = TSNE(n_components=2, perplexity=35, random_state=1)\n",
    "X_tsne = tsne.fit_transform(X_train)"
   ]
  },
  {
   "cell_type": "markdown",
   "metadata": {},
   "source": [
    "### Clusters in t-SNE are clearly separeted"
   ]
  },
  {
   "cell_type": "code",
   "execution_count": 45,
   "metadata": {},
   "outputs": [
    {
     "data": {
      "image/png": "[encoded data removed]",
      "text/plain": [
       "<Figure size 432x288 with 1 Axes>"
      ]
     },
     "metadata": {
      "needs_background": "light"
     },
     "output_type": "display_data"
    }
   ],
   "source": [
    "sns.scatterplot(x=X_tsne[:,0], y=X_tsne[:,1], hue=y_train)\n",
    "plt.title('t-SNE');"
   ]
  },
  {
   "cell_type": "markdown",
   "metadata": {},
   "source": [
    "### Spectral Embedding"
   ]
  },
  {
   "cell_type": "code",
   "execution_count": 46,
   "metadata": {},
   "outputs": [],
   "source": [
    "from sklearn.manifold import SpectralEmbedding"
   ]
  },
  {
   "cell_type": "code",
   "execution_count": 47,
   "metadata": {},
   "outputs": [],
   "source": [
    "mds = SpectralEmbedding(n_components=2, gamma=10)\n",
    "X_se = mds.fit_transform(X_train)"
   ]
  },
  {
   "cell_type": "code",
   "execution_count": 48,
   "metadata": {},
   "outputs": [
    {
     "data": {
      "image/png": "[encoded data removed]",
      "text/plain": [
       "<Figure size 432x288 with 1 Axes>"
      ]
     },
     "metadata": {
      "needs_background": "light"
     },
     "output_type": "display_data"
    }
   ],
   "source": [
    "sns.scatterplot(x=X_se[:,0], y=X_se[:,1], hue=y_train)\n",
    "plt.title('Spectral Embedding');"
   ]
  },
  {
   "cell_type": "markdown",
   "metadata": {},
   "source": [
    "### As shown in plots using dimension reduction methods, fraud and non-fraud cases are clustered separetely. It means the data has good signal for classification and models will be able to detect easily. "
   ]
  },
  {
   "cell_type": "markdown",
   "metadata": {},
   "source": [
    "------"
   ]
  },
  {
   "cell_type": "markdown",
   "metadata": {},
   "source": [
    "### Module 4: Classification\n",
    "Choose three classification methods and build classification models, using 5-fold cross-validation. <br>\n",
    "\n",
    "Further, load `creditcard_test.csv` and use it as the test dataset to evaluate your models and compare their performance. Consider visualizing the results, and evaluate the results using metrics such as the overall accuracy and the confusion matrix. <br>\n",
    "\n",
    "Hint: because the dataset is highly unbalanced, consider undersampling, i.e. randomly select N normal observations of the same size as the N fraud observations, and use N+N=2N samples for model fitting and training. "
   ]
  },
  {
   "cell_type": "code",
   "execution_count": 49,
   "metadata": {},
   "outputs": [],
   "source": [
    "###pick 3 classification methods, and methods not in the below list can also be used; you can also pick more than three methods\n",
    "from sklearn.linear_model import LogisticRegression\n",
    "from sklearn.svm import SVC\n",
    "from sklearn.ensemble import RandomForestClassifier, AdaBoostClassifier\n",
    "\n",
    "from sklearn.model_selection import cross_val_score\n",
    "from sklearn.model_selection import GridSearchCV\n",
    "\n",
    "from sklearn.metrics import confusion_matrix\n",
    "from sklearn.metrics import accuracy_score\n",
    "from sklearn.metrics import classification_report\n",
    "from sklearn.metrics import roc_curve, auc\n",
    "from sklearn.metrics import roc_auc_score\n",
    "from sklearn.metrics import plot_roc_curve"
   ]
  },
  {
   "cell_type": "code",
   "execution_count": 50,
   "metadata": {},
   "outputs": [],
   "source": [
    "X_test = df_test.drop('Class', axis=1)\n",
    "y_test = df_test['Class']"
   ]
  },
  {
   "cell_type": "markdown",
   "metadata": {},
   "source": [
    "### Undersampling the imbalanced data"
   ]
  },
  {
   "cell_type": "code",
   "execution_count": 51,
   "metadata": {},
   "outputs": [],
   "source": [
    "# shuffling data\n",
    "df_train = df_train.sample(frac=1, random_state=1)\n",
    "\n",
    "# take fraud data\n",
    "fraud_df = df_train.loc[df_train['Class'] == 1]\n",
    "# select the same number of normal data\n",
    "normal_df = df_train.loc[df_train['Class'] == 0][:442]\n",
    "\n",
    "new_df_train = pd.concat([fraud_df, normal_df]).sample(frac=1, random_state=2)\n",
    "\n",
    "X_train = new_df_train.drop('Class', axis=1)\n",
    "y_train = new_df_train['Class']"
   ]
  },
  {
   "cell_type": "code",
   "execution_count": 52,
   "metadata": {},
   "outputs": [
    {
     "data": {
      "text/plain": [
       "1    442\n",
       "0    442\n",
       "Name: Class, dtype: int64"
      ]
     },
     "execution_count": 52,
     "metadata": {},
     "output_type": "execute_result"
    }
   ],
   "source": [
    "y_train.value_counts()"
   ]
  },
  {
   "cell_type": "markdown",
   "metadata": {},
   "source": [
    "### Logistic Regression"
   ]
  },
  {
   "cell_type": "markdown",
   "metadata": {},
   "source": [
    "hyperparameter tuning with Grid Search CV. "
   ]
  },
  {
   "cell_type": "code",
   "execution_count": 53,
   "metadata": {},
   "outputs": [],
   "source": [
    "log_reg_params = {'C': [1, 3, 10, 100]}\n",
    "log_res = LogisticRegression(max_iter=1000)\n",
    "grid_log_reg = GridSearchCV(log_res, log_reg_params, cv=5)\n",
    "grid_log_reg.fit(X_train, y_train);"
   ]
  },
  {
   "cell_type": "markdown",
   "metadata": {},
   "source": [
    "#### Best score in CV"
   ]
  },
  {
   "cell_type": "code",
   "execution_count": 54,
   "metadata": {},
   "outputs": [
    {
     "data": {
      "text/plain": [
       "0.9411530559835644"
      ]
     },
     "execution_count": 54,
     "metadata": {},
     "output_type": "execute_result"
    }
   ],
   "source": [
    "grid_log_reg.best_score_"
   ]
  },
  {
   "cell_type": "code",
   "execution_count": 55,
   "metadata": {},
   "outputs": [],
   "source": [
    "y_logreg = grid_log_reg.predict(X_test)"
   ]
  },
  {
   "cell_type": "markdown",
   "metadata": {},
   "source": [
    "#### Accuracy of the model on test set"
   ]
  },
  {
   "cell_type": "code",
   "execution_count": 56,
   "metadata": {},
   "outputs": [
    {
     "data": {
      "text/plain": [
       "0.9733333333333334"
      ]
     },
     "execution_count": 56,
     "metadata": {},
     "output_type": "execute_result"
    }
   ],
   "source": [
    "accuracy_score(y_test, y_logreg)"
   ]
  },
  {
   "cell_type": "code",
   "execution_count": 57,
   "metadata": {},
   "outputs": [
    {
     "data": {
      "image/png": "[encoded data removed]",
      "text/plain": [
       "<Figure size 432x288 with 2 Axes>"
      ]
     },
     "metadata": {
      "needs_background": "light"
     },
     "output_type": "display_data"
    }
   ],
   "source": [
    "sns.heatmap(confusion_matrix(y_test, y_logreg), annot=True, annot_kws={'fontsize':15})\n",
    "plt.xlabel('Predicted')\n",
    "plt.ylabel('True')\n",
    "plt.title('Confusion matrix of Logistic Regression');"
   ]
  },
  {
   "cell_type": "code",
   "execution_count": 58,
   "metadata": {},
   "outputs": [
    {
     "name": "stdout",
     "output_type": "stream",
     "text": [
      "              precision    recall  f1-score   support\n",
      "\n",
      "           0       0.98      0.98      0.98       100\n",
      "           1       0.96      0.96      0.96        50\n",
      "\n",
      "    accuracy                           0.97       150\n",
      "   macro avg       0.97      0.97      0.97       150\n",
      "weighted avg       0.97      0.97      0.97       150\n",
      "\n"
     ]
    }
   ],
   "source": [
    "print(classification_report(y_test, y_logreg))"
   ]
  },
  {
   "cell_type": "markdown",
   "metadata": {},
   "source": [
    "### SVC ( Support Vector Classification)"
   ]
  },
  {
   "cell_type": "code",
   "execution_count": 59,
   "metadata": {},
   "outputs": [],
   "source": [
    "svc_params = {'C': [0.1, 0.5, 1, 5, 10], \n",
    "              'kernel': ['rbf', 'poly', 'sigmoid', 'linear']}\n",
    "\n",
    "svc = SVC()\n",
    "grid_svc = GridSearchCV(svc, svc_params, cv=5)\n",
    "grid_svc.fit(X_train, y_train);"
   ]
  },
  {
   "cell_type": "code",
   "execution_count": 60,
   "metadata": {},
   "outputs": [
    {
     "data": {
      "text/plain": [
       "0.9400166923472009"
      ]
     },
     "execution_count": 60,
     "metadata": {},
     "output_type": "execute_result"
    }
   ],
   "source": [
    "grid_svc.best_score_"
   ]
  },
  {
   "cell_type": "code",
   "execution_count": 61,
   "metadata": {},
   "outputs": [],
   "source": [
    "y_svc = grid_svc.predict(X_test)"
   ]
  },
  {
   "cell_type": "markdown",
   "metadata": {},
   "source": [
    "#### Accuracy of SVC on test set"
   ]
  },
  {
   "cell_type": "code",
   "execution_count": 62,
   "metadata": {},
   "outputs": [
    {
     "data": {
      "text/plain": [
       "0.9666666666666667"
      ]
     },
     "execution_count": 62,
     "metadata": {},
     "output_type": "execute_result"
    }
   ],
   "source": [
    "accuracy_score(y_test, y_svc)"
   ]
  },
  {
   "cell_type": "code",
   "execution_count": 63,
   "metadata": {},
   "outputs": [
    {
     "data": {
      "image/png": "[encoded data removed]",
      "text/plain": [
       "<Figure size 432x288 with 2 Axes>"
      ]
     },
     "metadata": {
      "needs_background": "light"
     },
     "output_type": "display_data"
    }
   ],
   "source": [
    "sns.heatmap(confusion_matrix(y_test, y_svc), annot=True, annot_kws={'fontsize':15})\n",
    "plt.xlabel('Predicted')\n",
    "plt.ylabel('True')\n",
    "plt.title('Confusion matrix of SVC');"
   ]
  },
  {
   "cell_type": "code",
   "execution_count": 64,
   "metadata": {},
   "outputs": [
    {
     "name": "stdout",
     "output_type": "stream",
     "text": [
      "              precision    recall  f1-score   support\n",
      "\n",
      "           0       0.98      0.97      0.97       100\n",
      "           1       0.94      0.96      0.95        50\n",
      "\n",
      "    accuracy                           0.97       150\n",
      "   macro avg       0.96      0.96      0.96       150\n",
      "weighted avg       0.97      0.97      0.97       150\n",
      "\n"
     ]
    }
   ],
   "source": [
    "print(classification_report(y_test, y_svc))"
   ]
  },
  {
   "cell_type": "markdown",
   "metadata": {},
   "source": [
    "### Random Forest Classifier"
   ]
  },
  {
   "cell_type": "code",
   "execution_count": 65,
   "metadata": {},
   "outputs": [],
   "source": [
    "rf_params = {'n_estimators': [100, 300, 500], \n",
    "             'max_depth': [5,7,9], \n",
    "             'max_features': ['auto', 'sqrt'], \n",
    "             'min_samples_leaf': [1, 2, 4]}\n",
    "\n",
    "rf = RandomForestClassifier()\n",
    "grid_rf = GridSearchCV(rf, rf_params, cv=5)\n",
    "grid_rf.fit(X_train, y_train);"
   ]
  },
  {
   "cell_type": "code",
   "execution_count": 66,
   "metadata": {},
   "outputs": [
    {
     "data": {
      "text/plain": [
       "0.9411594761171033"
      ]
     },
     "execution_count": 66,
     "metadata": {},
     "output_type": "execute_result"
    }
   ],
   "source": [
    "grid_rf.best_score_"
   ]
  },
  {
   "cell_type": "code",
   "execution_count": 67,
   "metadata": {},
   "outputs": [
    {
     "data": {
      "text/plain": [
       "{'max_depth': 7,\n",
       " 'max_features': 'auto',\n",
       " 'min_samples_leaf': 2,\n",
       " 'n_estimators': 100}"
      ]
     },
     "execution_count": 67,
     "metadata": {},
     "output_type": "execute_result"
    }
   ],
   "source": [
    "grid_rf.best_params_"
   ]
  },
  {
   "cell_type": "code",
   "execution_count": 68,
   "metadata": {},
   "outputs": [],
   "source": [
    "y_rf = grid_rf.predict(X_test)"
   ]
  },
  {
   "cell_type": "markdown",
   "metadata": {},
   "source": [
    "#### Accuracy of Random Forest model on test set"
   ]
  },
  {
   "cell_type": "code",
   "execution_count": 69,
   "metadata": {},
   "outputs": [
    {
     "data": {
      "text/plain": [
       "0.96"
      ]
     },
     "execution_count": 69,
     "metadata": {},
     "output_type": "execute_result"
    }
   ],
   "source": [
    "accuracy_score(y_test, y_rf)"
   ]
  },
  {
   "cell_type": "code",
   "execution_count": 70,
   "metadata": {},
   "outputs": [
    {
     "data": {
      "image/png": "[encoded data removed]",
      "text/plain": [
       "<Figure size 432x288 with 2 Axes>"
      ]
     },
     "metadata": {
      "needs_background": "light"
     },
     "output_type": "display_data"
    }
   ],
   "source": [
    "sns.heatmap(confusion_matrix(y_test, y_rf), annot=True, annot_kws={'fontsize':15})\n",
    "plt.xlabel('Predicted')\n",
    "plt.ylabel('True')\n",
    "plt.title('Confusion matrix of Random Forest');"
   ]
  },
  {
   "cell_type": "code",
   "execution_count": 71,
   "metadata": {
    "scrolled": true
   },
   "outputs": [
    {
     "name": "stdout",
     "output_type": "stream",
     "text": [
      "              precision    recall  f1-score   support\n",
      "\n",
      "           0       0.97      0.97      0.97       100\n",
      "           1       0.94      0.94      0.94        50\n",
      "\n",
      "    accuracy                           0.96       150\n",
      "   macro avg       0.95      0.95      0.95       150\n",
      "weighted avg       0.96      0.96      0.96       150\n",
      "\n"
     ]
    }
   ],
   "source": [
    "print(classification_report(y_test, y_rf))"
   ]
  },
  {
   "cell_type": "markdown",
   "metadata": {},
   "source": [
    "### Ada Boost Classifier"
   ]
  },
  {
   "cell_type": "code",
   "execution_count": 72,
   "metadata": {},
   "outputs": [],
   "source": [
    "ada_params = {'n_estimators': [100, 300, 500]}\n",
    "\n",
    "ada = AdaBoostClassifier()\n",
    "grid_ada = GridSearchCV(ada, ada_params, cv=5)\n",
    "grid_ada.fit(X_train, y_train);"
   ]
  },
  {
   "cell_type": "code",
   "execution_count": 73,
   "metadata": {},
   "outputs": [
    {
     "data": {
      "text/plain": [
       "0.9422894196199281"
      ]
     },
     "execution_count": 73,
     "metadata": {},
     "output_type": "execute_result"
    }
   ],
   "source": [
    "grid_ada.best_score_"
   ]
  },
  {
   "cell_type": "code",
   "execution_count": 74,
   "metadata": {},
   "outputs": [],
   "source": [
    "y_ada = grid_ada.predict(X_test)"
   ]
  },
  {
   "cell_type": "markdown",
   "metadata": {},
   "source": [
    "#### Accuracy of Ada Boost Classifier model on test set"
   ]
  },
  {
   "cell_type": "code",
   "execution_count": 75,
   "metadata": {},
   "outputs": [
    {
     "data": {
      "text/plain": [
       "0.9666666666666667"
      ]
     },
     "execution_count": 75,
     "metadata": {},
     "output_type": "execute_result"
    }
   ],
   "source": [
    "accuracy_score(y_test, y_ada)"
   ]
  },
  {
   "cell_type": "code",
   "execution_count": 76,
   "metadata": {},
   "outputs": [
    {
     "data": {
      "image/png": "[encoded data removed]",
      "text/plain": [
       "<Figure size 432x288 with 2 Axes>"
      ]
     },
     "metadata": {
      "needs_background": "light"
     },
     "output_type": "display_data"
    }
   ],
   "source": [
    "sns.heatmap(confusion_matrix(y_test, y_ada), annot=True, annot_kws={'fontsize':15})\n",
    "plt.xlabel('Predicted')\n",
    "plt.ylabel('True')\n",
    "plt.title('Confusion matrix of Ada Boost Classifier');"
   ]
  },
  {
   "cell_type": "code",
   "execution_count": 77,
   "metadata": {},
   "outputs": [
    {
     "name": "stdout",
     "output_type": "stream",
     "text": [
      "              precision    recall  f1-score   support\n",
      "\n",
      "           0       0.99      0.96      0.97       100\n",
      "           1       0.92      0.98      0.95        50\n",
      "\n",
      "    accuracy                           0.97       150\n",
      "   macro avg       0.96      0.97      0.96       150\n",
      "weighted avg       0.97      0.97      0.97       150\n",
      "\n"
     ]
    }
   ],
   "source": [
    "print(classification_report(y_test, y_ada))"
   ]
  },
  {
   "cell_type": "markdown",
   "metadata": {},
   "source": [
    "### ROC curve and AUC score"
   ]
  },
  {
   "cell_type": "markdown",
   "metadata": {},
   "source": [
    "### AUC score of all models are close to 1"
   ]
  },
  {
   "cell_type": "code",
   "execution_count": 78,
   "metadata": {},
   "outputs": [
    {
     "name": "stdout",
     "output_type": "stream",
     "text": [
      "AUC scores\n",
      "Logistic Regression: 0.986\n",
      "SVC: 0.989\n",
      "Ada Boost Classfier: 0.991\n"
     ]
    }
   ],
   "source": [
    "y_log_score = grid_log_reg.decision_function(X_test)\n",
    "y_svc_score = grid_svc.decision_function(X_test)\n",
    "y_ada_score = grid_ada.decision_function(X_test)\n",
    "\n",
    "print(\"AUC scores\")\n",
    "print(\"Logistic Regression: {:.3f}\".format(roc_auc_score(y_test, y_log_score)))\n",
    "print(\"SVC: {:.3f}\".format(roc_auc_score(y_test, y_svc_score)))\n",
    "print(\"Ada Boost Classfier: {:.3f}\".format(roc_auc_score(y_test, y_ada_score)))"
   ]
  },
  {
   "cell_type": "markdown",
   "metadata": {},
   "source": [
    "### Logistic Regression showed the best result on accuracy. Let's look at deeper"
   ]
  },
  {
   "cell_type": "code",
   "execution_count": 79,
   "metadata": {},
   "outputs": [
    {
     "data": {
      "image/png": "[encoded data removed]",
      "text/plain": [
       "<Figure size 432x288 with 1 Axes>"
      ]
     },
     "metadata": {
      "needs_background": "light"
     },
     "output_type": "display_data"
    }
   ],
   "source": [
    "plot_roc_curve(grid_log_reg, X_test, y_test, label='Logistic Regression')\n",
    "plt.title(\"ROC curve of Logistic Regression\");"
   ]
  },
  {
   "cell_type": "markdown",
   "metadata": {},
   "source": [
    "### As we see on graph above, ROC curve captures almost all space"
   ]
  },
  {
   "cell_type": "markdown",
   "metadata": {},
   "source": [
    "## Check Logistic Regression on all training data without under-sampling"
   ]
  },
  {
   "cell_type": "code",
   "execution_count": 80,
   "metadata": {},
   "outputs": [],
   "source": [
    "X_all = df_train.drop('Class', axis=1)\n",
    "y_all = df_train['Class']"
   ]
  },
  {
   "cell_type": "code",
   "execution_count": 81,
   "metadata": {},
   "outputs": [
    {
     "data": {
      "text/plain": [
       "(283859, 30)"
      ]
     },
     "execution_count": 81,
     "metadata": {},
     "output_type": "execute_result"
    }
   ],
   "source": [
    "X_all.shape"
   ]
  },
  {
   "cell_type": "code",
   "execution_count": 82,
   "metadata": {},
   "outputs": [],
   "source": [
    "pred_all = grid_log_reg.predict(X_all)"
   ]
  },
  {
   "cell_type": "markdown",
   "metadata": {},
   "source": [
    "### Accuracy of the model on all training data"
   ]
  },
  {
   "cell_type": "code",
   "execution_count": 83,
   "metadata": {},
   "outputs": [
    {
     "name": "stdout",
     "output_type": "stream",
     "text": [
      "Accuracy on all training data: 0.967\n"
     ]
    }
   ],
   "source": [
    "print(\"Accuracy on all training data: {:.3f}\".format(accuracy_score(y_all, pred_all)))"
   ]
  },
  {
   "cell_type": "code",
   "execution_count": 84,
   "metadata": {},
   "outputs": [
    {
     "data": {
      "image/png": "[encoded data removed]",
      "text/plain": [
       "<Figure size 432x288 with 1 Axes>"
      ]
     },
     "metadata": {
      "needs_background": "light"
     },
     "output_type": "display_data"
    }
   ],
   "source": [
    "plot_roc_curve(grid_log_reg, X_all, y_all, label='Logistic Regression (AUC=0.99)')\n",
    "plt.title(\"ROC curve of Logistic Regression on all training data\");"
   ]
  },
  {
   "cell_type": "markdown",
   "metadata": {},
   "source": [
    "### The model misclassified many normal transactions as fraud transaction"
   ]
  },
  {
   "cell_type": "code",
   "execution_count": 85,
   "metadata": {},
   "outputs": [
    {
     "data": {
      "image/png": "[encoded data removed]",
      "text/plain": [
       "<Figure size 432x288 with 2 Axes>"
      ]
     },
     "metadata": {
      "needs_background": "light"
     },
     "output_type": "display_data"
    }
   ],
   "source": [
    "sns.heatmap(confusion_matrix(y_all, pred_all), annot=True, annot_kws={'fontsize':15})\n",
    "plt.xlabel('Predicted')\n",
    "plt.ylabel('True')\n",
    "plt.title('Confusion matrix on all training data');"
   ]
  },
  {
   "cell_type": "markdown",
   "metadata": {},
   "source": [
    "### Module 5: Summary\n",
    "Summarize your findings and draw conclusions."
   ]
  },
  {
   "cell_type": "markdown",
   "metadata": {},
   "source": [
    "#### My findings:\n",
    "\n",
    "1. The given training data is imbalanced. Fraud transactions make only 0.16% of all data. Undersampling helped to fix this issue\n",
    "2. I removed rows that have missing values because none of them are fraud cases. So, I don't lose valueable information by dropping them.\n",
    "3. Distribution of some features such as V4, V11, V12, V14, V17, is different in fraud cases than the normal cases. \n",
    "4. Fraud transactions contain outliers because they are different the normal transactions. Therefore, I didn't delete outliers. By deleting outliers, we lose most of fraud data.\n",
    "5. Dimension reduction algorithms like PCA, t-SNE showed that with the only 2 components on visualization we can notice the difference of fraud transactions. It's evidence that ML algorithms perform well.\n",
    "6. All models have good accuracy score on test set with above 95%. The result:\n",
    " - Logistic Regression - 97.3%\n",
    " - SVC - 96.7%\n",
    " - Random Forest - 96%\n",
    " - Ada Boost Classifier - 96.7%\n",
    "7. Logistic Regression showed the best results. its result:\n",
    " - precision - 96%\n",
    " - recall - 96%\n",
    "\n",
    "#### Conclusion\n",
    "Undersampling helped to deal with imbalance data. Logistic Regression showed the best result with accuracy 97% on test data, 96% on all training data. These models are deployable in real life. Although it has very high accuracy, it misclassified many normal transactions as fraud transaction. In the credit card fraud detection task, detecting fraud transaction is more important than detecting normal data. Because we can check normal transactions by contacting owners of credit cards. If we miss the fraud transaction, it will be impossible to fix it later.\n",
    "\n",
    "On the other hand, calling to credit card owners every time, when they make regular daily transactions, causes customer complaints and dissatisfaction. Also, banks would spend a lot of money on employees. So, we deal with it by increasing the accuracy of models to predict more data right. One possible way is to collect more fraud data and train models again. The given training data has only 442 fraud transaction, which is 0.156% of all data. If we increase the number of fraud transaction in the data, it could lead to even more accuracy. Another possible approch might be using over-sampling instead of under-sampling. In over-sampling we get more data to train models. I didn't use it as under-sampling technique is suggested to use in project. \n"
   ]
  }
 ],
 "metadata": {
  "kernelspec": {
   "display_name": "Python 3",
   "language": "python",
   "name": "python3"
  },
  "language_info": {
   "codemirror_mode": {
    "name": "ipython",
    "version": 3
   },
   "file_extension": ".py",
   "mimetype": "text/x-python",
   "name": "python",
   "nbconvert_exporter": "python",
   "pygments_lexer": "ipython3",
   "version": "3.7.7"
  }
 },
 "nbformat": 4,
 "nbformat_minor": 4
}
